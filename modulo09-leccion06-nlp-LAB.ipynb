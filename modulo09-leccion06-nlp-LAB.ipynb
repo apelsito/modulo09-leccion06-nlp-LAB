{
 "cells": [
  {
   "cell_type": "markdown",
   "metadata": {},
   "source": [
    "<div style=\"text-align: center;\">\n",
    "  <img src=\"https://github.com/Hack-io-Data/Imagenes/blob/main/01-LogosHackio/logo_naranja@4x.png?raw=true\" alt=\"esquema\" />\n",
    "</div>\n",
    "\n",
    "\n",
    "# Laboratorio NLP + Sist. Recomendación\n",
    "\n",
    "\n",
    "En este laboratorio, tabrajaras con datos de reseñas de productos para construir un sistema de recomendación que utilice procesamiento de lenguaje natural (NLP) y *machine learning*. El objetivo principal es que analices el contenido textual de las reseñas, clasifiques las opiniones en categorías (positiva, negativa o neutra) y aproveches esta información para personalizar las recomendaciones. El sistema priorizará los productos con mejores reseñas para usuarios específicos y permitirá evaluar si el análisis de sentimientos mejora la calidad de las recomendaciones. Tareas propuestas:\n",
    "\n",
    "\n",
    "**Caso 1: Crear un sistema de recomendación**: Debes generar un sistema de recomendación para priorizar productos con las reseñas para cada usuario. Los pasos que deberás seguir son:    \n",
    "\n",
    "- Estructurar el conjunto de datos\n",
    "\n",
    "- Sistema basado en contenido\n",
    "\n",
    "\n",
    "**Caso 2: Clasificar reseñas en positivas, negativas o neutras** Deberás implementar un modelo para analizar las reseñas textuales y clasificarlas en tres categorías:\n",
    "\n",
    "- Positivas: Si el sentimiento de la reseña es favorable.\n",
    "\n",
    "- Negativas: Si el sentimiento de la reseña es desfavorable.\n",
    "\n",
    "- Neutras: Si la reseña no tiene un sentimiento claro.\n",
    "\t\n",
    "- Pasos :\n",
    "\t- Preprocesamiento de texto: Limpiar las reseñas eliminando caracteres especiales, palabras vacías (stopwords) y realizar lematización.\n",
    "\t\n",
    "\t- Identificar las reseñas positivas, negativas y neutrales. \n",
    "\n",
    "\n",
    "Los datos los tendréis en el [siguiente enlace](https://drive.google.com/drive/u/0/folders/1vK5zESy9KElRhm_utg_lHHXuUArrwWgu) con la descipción de cada una de las columnas.  "
   ]
  },
  {
   "cell_type": "markdown",
   "metadata": {},
   "source": []
  }
 ],
 "metadata": {
  "language_info": {
   "name": "python"
  }
 },
 "nbformat": 4,
 "nbformat_minor": 2
}
